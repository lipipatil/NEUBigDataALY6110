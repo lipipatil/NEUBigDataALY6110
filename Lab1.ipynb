{
  "nbformat": 4,
  "nbformat_minor": 0,
  "metadata": {
    "colab": {
      "name": "Lab1.ipynb",
      "provenance": [],
      "collapsed_sections": [],
      "authorship_tag": "ABX9TyOPuhiVPK+yQbHf1XHFbMDW",
      "include_colab_link": true
    },
    "kernelspec": {
      "name": "python3",
      "display_name": "Python 3"
    },
    "language_info": {
      "name": "python"
    }
  },
  "cells": [
    {
      "cell_type": "markdown",
      "metadata": {
        "id": "view-in-github",
        "colab_type": "text"
      },
      "source": [
        "<a href=\"https://colab.research.google.com/github/lipipatil/NEUBigDataALY6110/blob/main/Lab1.ipynb\" target=\"_parent\"><img src=\"https://colab.research.google.com/assets/colab-badge.svg\" alt=\"Open In Colab\"/></a>"
      ]
    },
    {
      "cell_type": "code",
      "execution_count": 37,
      "metadata": {
        "id": "t8vjSfwMyN1Z"
      },
      "outputs": [],
      "source": [
        "# install java\n",
        "!apt-get install openjdk-8-jdk-headless -qq > /dev/null\n",
        "\n",
        "# install spark (change the version number if needed)\n",
        "!wget -q https://archive.apache.org/dist/spark/spark-3.0.0/spark-3.0.0-bin-hadoop3.2.tgz\n",
        "\n",
        "# unzip the spark file to the current folder\n",
        "!tar xf spark-3.0.0-bin-hadoop3.2.tgz\n",
        "\n",
        "# set your spark folder to your system path environment. \n",
        "import os\n",
        "os.environ[\"JAVA_HOME\"] = \"/usr/lib/jvm/java-8-openjdk-amd64\"\n",
        "os.environ[\"SPARK_HOME\"] = \"/content/spark-3.0.0-bin-hadoop3.2\"\n",
        "\n",
        "\n",
        "# install findspark using pip\n",
        "!pip install -q findspark"
      ]
    },
    {
      "cell_type": "code",
      "source": [
        "import findspark\n",
        "findspark.init()\n",
        "from pyspark.sql import SparkSession\n",
        "spark=SparkSession.builder.appName(\"boston_housing_dataset\").getOrCreate()"
      ],
      "metadata": {
        "id": "7VAkEIpqyZVx"
      },
      "execution_count": 38,
      "outputs": []
    },
    {
      "cell_type": "code",
      "source": [
        "#1. Read the given CSV file\n",
        "dfbostonhousing = spark.read.csv(\"BostonHousing.csv\", inferSchema=True,header=True)"
      ],
      "metadata": {
        "id": "IDxUef1dyyZ4"
      },
      "execution_count": 39,
      "outputs": []
    },
    {
      "cell_type": "code",
      "source": [
        "#2. Show the first 5 elements of your dataset\n",
        "dfbostonhousing.show(5)"
      ],
      "metadata": {
        "colab": {
          "base_uri": "https://localhost:8080/"
        },
        "id": "nSy6bmZMzGba",
        "outputId": "59c3cc58-9113-4ffa-e308-3e7b3f30c9f3"
      },
      "execution_count": 6,
      "outputs": [
        {
          "output_type": "stream",
          "name": "stdout",
          "text": [
            "+-------+----+-----+----+-----+-----+----+------+---+---+-------+------+-----+----+\n",
            "|   crim|  zn|indus|chas|  nox|   rm| age|   dis|rad|tax|ptratio|     b|lstat|medv|\n",
            "+-------+----+-----+----+-----+-----+----+------+---+---+-------+------+-----+----+\n",
            "|0.00632|18.0| 2.31|   0|0.538|6.575|65.2|  4.09|  1|296|   15.3| 396.9| 4.98|24.0|\n",
            "|0.02731| 0.0| 7.07|   0|0.469|6.421|78.9|4.9671|  2|242|   17.8| 396.9| 9.14|21.6|\n",
            "|0.02729| 0.0| 7.07|   0|0.469|7.185|61.1|4.9671|  2|242|   17.8|392.83| 4.03|34.7|\n",
            "|0.03237| 0.0| 2.18|   0|0.458|6.998|45.8|6.0622|  3|222|   18.7|394.63| 2.94|33.4|\n",
            "|0.06905| 0.0| 2.18|   0|0.458|7.147|54.2|6.0622|  3|222|   18.7| 396.9| 5.33|36.2|\n",
            "+-------+----+-----+----+-----+-----+----+------+---+---+-------+------+-----+----+\n",
            "only showing top 5 rows\n",
            "\n"
          ]
        }
      ]
    },
    {
      "cell_type": "code",
      "source": [
        "#3. Count number of observation in the given dataset\n",
        "dfbostonhousing.count()"
      ],
      "metadata": {
        "colab": {
          "base_uri": "https://localhost:8080/"
        },
        "id": "FoCBEQp_zV4h",
        "outputId": "fd35710c-e916-4d8f-c98e-0da539426ca9"
      },
      "execution_count": 7,
      "outputs": [
        {
          "output_type": "execute_result",
          "data": {
            "text/plain": [
              "506"
            ]
          },
          "metadata": {},
          "execution_count": 7
        }
      ]
    },
    {
      "cell_type": "code",
      "source": [
        "#4. Show the Schema of your dataset\n",
        "dfbostonhousing.printSchema()"
      ],
      "metadata": {
        "colab": {
          "base_uri": "https://localhost:8080/"
        },
        "id": "rP46f4ZYzc_e",
        "outputId": "76389b4e-7dcb-4a86-d684-54746902c12c"
      },
      "execution_count": 8,
      "outputs": [
        {
          "output_type": "stream",
          "name": "stdout",
          "text": [
            "root\n",
            " |-- crim: double (nullable = true)\n",
            " |-- zn: double (nullable = true)\n",
            " |-- indus: double (nullable = true)\n",
            " |-- chas: integer (nullable = true)\n",
            " |-- nox: double (nullable = true)\n",
            " |-- rm: double (nullable = true)\n",
            " |-- age: double (nullable = true)\n",
            " |-- dis: double (nullable = true)\n",
            " |-- rad: integer (nullable = true)\n",
            " |-- tax: integer (nullable = true)\n",
            " |-- ptratio: double (nullable = true)\n",
            " |-- b: double (nullable = true)\n",
            " |-- lstat: double (nullable = true)\n",
            " |-- medv: double (nullable = true)\n",
            "\n"
          ]
        }
      ]
    },
    {
      "cell_type": "code",
      "source": [
        "#5. Drop the column \"b\" from your dataset\n",
        "dfbostonhousing1 = dfbostonhousing.drop(\"b\")\n",
        "dfbostonhousing1.printSchema()"
      ],
      "metadata": {
        "colab": {
          "base_uri": "https://localhost:8080/"
        },
        "id": "qB40WtQkzkSi",
        "outputId": "0eb54de6-ed70-43c0-bcc1-2320723d3e03"
      },
      "execution_count": 14,
      "outputs": [
        {
          "output_type": "stream",
          "name": "stdout",
          "text": [
            "root\n",
            " |-- crim: double (nullable = true)\n",
            " |-- indus: double (nullable = true)\n",
            " |-- chas: integer (nullable = true)\n",
            " |-- nox: double (nullable = true)\n",
            " |-- rm: double (nullable = true)\n",
            " |-- age: double (nullable = true)\n",
            " |-- dis: double (nullable = true)\n",
            " |-- rad: integer (nullable = true)\n",
            " |-- tax: integer (nullable = true)\n",
            " |-- ptratio: double (nullable = true)\n",
            " |-- b: double (nullable = true)\n",
            " |-- lstat: double (nullable = true)\n",
            " |-- medv: double (nullable = true)\n",
            "\n"
          ]
        }
      ]
    },
    {
      "cell_type": "code",
      "source": [
        "#6. Round all of the numerical columns into two decimal place\n",
        "\n",
        "from pyspark.sql.functions import round, col\n",
        "for data in dfbostonhousing1.columns:\n",
        "  dfbostonhousing1 = dfbostonhousing1.withColumn(data, round(data,2))\n",
        "dfbostonhousing1.show()"
      ],
      "metadata": {
        "colab": {
          "base_uri": "https://localhost:8080/"
        },
        "id": "0E-AX_ho1PAs",
        "outputId": "9bbc9ac6-364d-40cf-bb17-9049bb0db49f"
      },
      "execution_count": 19,
      "outputs": [
        {
          "output_type": "stream",
          "name": "stdout",
          "text": [
            "+----+-----+----+----+----+-----+----+---+---+-------+------+-----+----+\n",
            "|crim|indus|chas| nox|  rm|  age| dis|rad|tax|ptratio|     b|lstat|medv|\n",
            "+----+-----+----+----+----+-----+----+---+---+-------+------+-----+----+\n",
            "|0.01| 2.31|   0|0.54|6.58| 65.2|4.09|  1|296|   15.3| 396.9| 4.98|24.0|\n",
            "|0.03| 7.07|   0|0.47|6.42| 78.9|4.97|  2|242|   17.8| 396.9| 9.14|21.6|\n",
            "|0.03| 7.07|   0|0.47|7.19| 61.1|4.97|  2|242|   17.8|392.83| 4.03|34.7|\n",
            "|0.03| 2.18|   0|0.46| 7.0| 45.8|6.06|  3|222|   18.7|394.63| 2.94|33.4|\n",
            "|0.07| 2.18|   0|0.46|7.15| 54.2|6.06|  3|222|   18.7| 396.9| 5.33|36.2|\n",
            "|0.03| 2.18|   0|0.46|6.43| 58.7|6.06|  3|222|   18.7|394.12| 5.21|28.7|\n",
            "|0.09| 7.87|   0|0.52|6.01| 66.6|5.56|  5|311|   15.2| 395.6|12.43|22.9|\n",
            "|0.14| 7.87|   0|0.52|6.17| 96.1|5.95|  5|311|   15.2| 396.9|19.15|27.1|\n",
            "|0.21| 7.87|   0|0.52|5.63|100.0|6.08|  5|311|   15.2|386.63|29.93|16.5|\n",
            "|0.17| 7.87|   0|0.52| 6.0| 85.9|6.59|  5|311|   15.2|386.71| 17.1|18.9|\n",
            "|0.22| 7.87|   0|0.52|6.38| 94.3|6.35|  5|311|   15.2|392.52|20.45|15.0|\n",
            "|0.12| 7.87|   0|0.52|6.01| 82.9|6.23|  5|311|   15.2| 396.9|13.27|18.9|\n",
            "|0.09| 7.87|   0|0.52|5.89| 39.0|5.45|  5|311|   15.2| 390.5|15.71|21.7|\n",
            "|0.63| 8.14|   0|0.54|5.95| 61.8|4.71|  4|307|   21.0| 396.9| 8.26|20.4|\n",
            "|0.64| 8.14|   0|0.54| 6.1| 84.5|4.46|  4|307|   21.0|380.02|10.26|18.2|\n",
            "|0.63| 8.14|   0|0.54|5.83| 56.5| 4.5|  4|307|   21.0|395.62| 8.47|19.9|\n",
            "|1.05| 8.14|   0|0.54|5.94| 29.3| 4.5|  4|307|   21.0|386.85| 6.58|23.1|\n",
            "|0.78| 8.14|   0|0.54|5.99| 81.7|4.26|  4|307|   21.0|386.75|14.67|17.5|\n",
            "| 0.8| 8.14|   0|0.54|5.46| 36.6| 3.8|  4|307|   21.0|288.99|11.69|20.2|\n",
            "|0.73| 8.14|   0|0.54|5.73| 69.5| 3.8|  4|307|   21.0|390.95|11.28|18.2|\n",
            "+----+-----+----+----+----+-----+----+---+---+-------+------+-----+----+\n",
            "only showing top 20 rows\n",
            "\n"
          ]
        }
      ]
    },
    {
      "cell_type": "code",
      "source": [
        "#7. Create a new column (Age10)  with 10% increasing of 'age' column\n",
        "dfboston = dfbostonhousing1.withColumn(\"Age10\",round((col(\"age\") + (col(\"age\")* 10)/100 ),2))\n",
        "dfboston.show(5)"
      ],
      "metadata": {
        "colab": {
          "base_uri": "https://localhost:8080/"
        },
        "id": "tWmCw10f2WTs",
        "outputId": "ed046416-a20a-464e-b155-e30b314207e3"
      },
      "execution_count": 23,
      "outputs": [
        {
          "output_type": "stream",
          "name": "stdout",
          "text": [
            "+----+-----+----+----+----+----+----+---+---+-------+------+-----+----+-----+\n",
            "|crim|indus|chas| nox|  rm| age| dis|rad|tax|ptratio|     b|lstat|medv|Age10|\n",
            "+----+-----+----+----+----+----+----+---+---+-------+------+-----+----+-----+\n",
            "|0.01| 2.31|   0|0.54|6.58|65.2|4.09|  1|296|   15.3| 396.9| 4.98|24.0|71.72|\n",
            "|0.03| 7.07|   0|0.47|6.42|78.9|4.97|  2|242|   17.8| 396.9| 9.14|21.6|86.79|\n",
            "|0.03| 7.07|   0|0.47|7.19|61.1|4.97|  2|242|   17.8|392.83| 4.03|34.7|67.21|\n",
            "|0.03| 2.18|   0|0.46| 7.0|45.8|6.06|  3|222|   18.7|394.63| 2.94|33.4|50.38|\n",
            "|0.07| 2.18|   0|0.46|7.15|54.2|6.06|  3|222|   18.7| 396.9| 5.33|36.2|59.62|\n",
            "+----+-----+----+----+----+----+----+---+---+-------+------+-----+----+-----+\n",
            "only showing top 5 rows\n",
            "\n"
          ]
        }
      ]
    },
    {
      "cell_type": "code",
      "source": [
        "#8. Plot Age10 column on a 2D Plot\n",
        "#!pip install pyspark-dist-explore\n",
        "from pyspark_dist_explore import hist\n",
        "import matplotlib.pyplot as plt\n",
        "\n",
        "fig, ax = plt.subplots()\n",
        "hist(ax, dfboston.select('Age10'), bins = 20, color=['cyan'])"
      ],
      "metadata": {
        "colab": {
          "base_uri": "https://localhost:8080/",
          "height": 384
        },
        "id": "xb9YehWk3IqK",
        "outputId": "2571dfd5-f5a1-4ba9-c7ac-b49ab9c1ba80"
      },
      "execution_count": 36,
      "outputs": [
        {
          "output_type": "execute_result",
          "data": {
            "text/plain": [
              "(array([  7.,   7.,   9.,  22.,   6.,  23.,  24.,  18.,  18.,  14.,  20.,\n",
              "         18.,  17.,  22.,  19.,  23.,  34.,  37.,  57., 111.]),\n",
              " array([  3.19  ,   8.5305,  13.871 ,  19.2115,  24.552 ,  29.8925,\n",
              "         35.233 ,  40.5735,  45.914 ,  51.2545,  56.595 ,  61.9355,\n",
              "         67.276 ,  72.6165,  77.957 ,  83.2975,  88.638 ,  93.9785,\n",
              "         99.319 , 104.6595, 110.    ]),\n",
              " <a list of 20 Patch objects>)"
            ]
          },
          "metadata": {},
          "execution_count": 36
        },
        {
          "output_type": "display_data",
          "data": {
            "text/plain": [
              "<Figure size 432x288 with 1 Axes>"
            ],
            "image/png": "[encoded data removed]"
          },
          "metadata": {
            "needs_background": "light"
          }
        }
      ]
    },
    {
      "cell_type": "code",
      "source": [
        "#9. Provide Summary Statistics of all columns (count, mean, stddev,min, max)\n",
        "dfboston.describe().show()"
      ],
      "metadata": {
        "colab": {
          "base_uri": "https://localhost:8080/"
        },
        "id": "0155nF-n4aEb",
        "outputId": "b1bf698d-00fb-49e2-d296-1c0d9dee0117"
      },
      "execution_count": 30,
      "outputs": [
        {
          "output_type": "stream",
          "name": "stdout",
          "text": [
            "+-------+------------------+------------------+------------------+------------------+------------------+------------------+------------------+-----------------+------------------+------------------+------------------+------------------+------------------+------------------+\n",
            "|summary|              crim|             indus|              chas|               nox|                rm|               age|               dis|              rad|               tax|           ptratio|                 b|             lstat|              medv|             Age10|\n",
            "+-------+------------------+------------------+------------------+------------------+------------------+------------------+------------------+-----------------+------------------+------------------+------------------+------------------+------------------+------------------+\n",
            "|  count|               506|               506|               506|               506|               506|               506|               506|              506|               506|               506|               506|               506|               506|               506|\n",
            "|   mean|3.6134189723320147|11.136778656126504|0.0691699604743083|0.5547628458498024| 6.285217391304348| 68.57490118577078| 3.795434782608693|9.549407114624506| 408.2371541501976|18.455533596837967|356.67403162055257|12.653063241106723|22.532806324110698| 75.43239130434783|\n",
            "| stddev| 8.601602243696705| 6.860352940897589|0.2539940413404101|0.1155068172648583|0.7028533445424924|28.148861406903595|2.1057760049129106|8.707259384239366|168.53711605495903|2.1649455237144455| 91.29486438415782| 7.141061511348571| 9.197104087379815|30.963747547593968|\n",
            "|    min|              0.01|              0.46|                 0|              0.39|              3.56|               2.9|              1.13|                1|               187|              12.6|              0.32|              1.73|               5.0|              3.19|\n",
            "|    max|             88.98|             27.74|                 1|              0.87|              8.78|             100.0|             12.13|               24|               711|              22.0|             396.9|             37.97|              50.0|             110.0|\n",
            "+-------+------------------+------------------+------------------+------------------+------------------+------------------+------------------+-----------------+------------------+------------------+------------------+------------------+------------------+------------------+\n",
            "\n"
          ]
        }
      ]
    },
    {
      "cell_type": "code",
      "source": [
        "#9. Convert Spark Dataframe to Pandas Dataframe\n",
        "dfboston_pandas = dfboston.toPandas()\n",
        "print(dfboston_pandas)"
      ],
      "metadata": {
        "colab": {
          "base_uri": "https://localhost:8080/"
        },
        "id": "AMIric4f4ePO",
        "outputId": "4719ca6e-59a7-4b76-9569-3aff45c5eb68"
      },
      "execution_count": 27,
      "outputs": [
        {
          "output_type": "stream",
          "name": "stdout",
          "text": [
            "     crim  indus  chas   nox    rm   age   dis  rad  tax  ptratio       b  \\\n",
            "0    0.01   2.31     0  0.54  6.58  65.2  4.09    1  296     15.3  396.90   \n",
            "1    0.03   7.07     0  0.47  6.42  78.9  4.97    2  242     17.8  396.90   \n",
            "2    0.03   7.07     0  0.47  7.19  61.1  4.97    2  242     17.8  392.83   \n",
            "3    0.03   2.18     0  0.46  7.00  45.8  6.06    3  222     18.7  394.63   \n",
            "4    0.07   2.18     0  0.46  7.15  54.2  6.06    3  222     18.7  396.90   \n",
            "..    ...    ...   ...   ...   ...   ...   ...  ...  ...      ...     ...   \n",
            "501  0.06  11.93     0  0.57  6.59  69.1  2.48    1  273     21.0  391.99   \n",
            "502  0.05  11.93     0  0.57  6.12  76.7  2.29    1  273     21.0  396.90   \n",
            "503  0.06  11.93     0  0.57  6.98  91.0  2.17    1  273     21.0  396.90   \n",
            "504  0.11  11.93     0  0.57  6.79  89.3  2.39    1  273     21.0  393.45   \n",
            "505  0.05  11.93     0  0.57  6.03  80.8  2.51    1  273     21.0  396.90   \n",
            "\n",
            "     lstat  medv   Age10  \n",
            "0     4.98  24.0   71.72  \n",
            "1     9.14  21.6   86.79  \n",
            "2     4.03  34.7   67.21  \n",
            "3     2.94  33.4   50.38  \n",
            "4     5.33  36.2   59.62  \n",
            "..     ...   ...     ...  \n",
            "501   9.67  22.4   76.01  \n",
            "502   9.08  20.6   84.37  \n",
            "503   5.64  23.9  100.10  \n",
            "504   6.48  22.0   98.23  \n",
            "505   7.88  11.9   88.88  \n",
            "\n",
            "[506 rows x 14 columns]\n"
          ]
        }
      ]
    },
    {
      "cell_type": "code",
      "source": [
        "#10. Show the last 5 rows of Pandas DataFrame\n",
        "dfboston_pandas.tail(5)"
      ],
      "metadata": {
        "colab": {
          "base_uri": "https://localhost:8080/",
          "height": 204
        },
        "id": "4H-dTtuZ4ha5",
        "outputId": "f5c4b79b-5eec-4365-a134-da350415fd7a"
      },
      "execution_count": 28,
      "outputs": [
        {
          "output_type": "execute_result",
          "data": {
            "text/plain": [
              "     crim  indus  chas   nox    rm   age   dis  rad  tax  ptratio       b  \\\n",
              "501  0.06  11.93     0  0.57  6.59  69.1  2.48    1  273     21.0  391.99   \n",
              "502  0.05  11.93     0  0.57  6.12  76.7  2.29    1  273     21.0  396.90   \n",
              "503  0.06  11.93     0  0.57  6.98  91.0  2.17    1  273     21.0  396.90   \n",
              "504  0.11  11.93     0  0.57  6.79  89.3  2.39    1  273     21.0  393.45   \n",
              "505  0.05  11.93     0  0.57  6.03  80.8  2.51    1  273     21.0  396.90   \n",
              "\n",
              "     lstat  medv   Age10  \n",
              "501   9.67  22.4   76.01  \n",
              "502   9.08  20.6   84.37  \n",
              "503   5.64  23.9  100.10  \n",
              "504   6.48  22.0   98.23  \n",
              "505   7.88  11.9   88.88  "
            ],
            "text/html": [
              "\n",
              "  <div id=\"df-e77e2444-2b30-4b96-880e-75bd32e487bd\">\n",
              "    <div class=\"colab-df-container\">\n",
              "      <div>\n",
              "<style scoped>\n",
              "    .dataframe tbody tr th:only-of-type {\n",
              "        vertical-align: middle;\n",
              "    }\n",
              "\n",
              "    .dataframe tbody tr th {\n",
              "        vertical-align: top;\n",
              "    }\n",
              "\n",
              "    .dataframe thead th {\n",
              "        text-align: right;\n",
              "    }\n",
              "</style>\n",
              "<table border=\"1\" class=\"dataframe\">\n",
              "  <thead>\n",
              "    <tr style=\"text-align: right;\">\n",
              "      <th></th>\n",
              "      <th>crim</th>\n",
              "      <th>indus</th>\n",
              "      <th>chas</th>\n",
              "      <th>nox</th>\n",
              "      <th>rm</th>\n",
              "      <th>age</th>\n",
              "      <th>dis</th>\n",
              "      <th>rad</th>\n",
              "      <th>tax</th>\n",
              "      <th>ptratio</th>\n",
              "      <th>b</th>\n",
              "      <th>lstat</th>\n",
              "      <th>medv</th>\n",
              "      <th>Age10</th>\n",
              "    </tr>\n",
              "  </thead>\n",
              "  <tbody>\n",
              "    <tr>\n",
              "      <th>501</th>\n",
              "      <td>0.06</td>\n",
              "      <td>11.93</td>\n",
              "      <td>0</td>\n",
              "      <td>0.57</td>\n",
              "      <td>6.59</td>\n",
              "      <td>69.1</td>\n",
              "      <td>2.48</td>\n",
              "      <td>1</td>\n",
              "      <td>273</td>\n",
              "      <td>21.0</td>\n",
              "      <td>391.99</td>\n",
              "      <td>9.67</td>\n",
              "      <td>22.4</td>\n",
              "      <td>76.01</td>\n",
              "    </tr>\n",
              "    <tr>\n",
              "      <th>502</th>\n",
              "      <td>0.05</td>\n",
              "      <td>11.93</td>\n",
              "      <td>0</td>\n",
              "      <td>0.57</td>\n",
              "      <td>6.12</td>\n",
              "      <td>76.7</td>\n",
              "      <td>2.29</td>\n",
              "      <td>1</td>\n",
              "      <td>273</td>\n",
              "      <td>21.0</td>\n",
              "      <td>396.90</td>\n",
              "      <td>9.08</td>\n",
              "      <td>20.6</td>\n",
              "      <td>84.37</td>\n",
              "    </tr>\n",
              "    <tr>\n",
              "      <th>503</th>\n",
              "      <td>0.06</td>\n",
              "      <td>11.93</td>\n",
              "      <td>0</td>\n",
              "      <td>0.57</td>\n",
              "      <td>6.98</td>\n",
              "      <td>91.0</td>\n",
              "      <td>2.17</td>\n",
              "      <td>1</td>\n",
              "      <td>273</td>\n",
              "      <td>21.0</td>\n",
              "      <td>396.90</td>\n",
              "      <td>5.64</td>\n",
              "      <td>23.9</td>\n",
              "      <td>100.10</td>\n",
              "    </tr>\n",
              "    <tr>\n",
              "      <th>504</th>\n",
              "      <td>0.11</td>\n",
              "      <td>11.93</td>\n",
              "      <td>0</td>\n",
              "      <td>0.57</td>\n",
              "      <td>6.79</td>\n",
              "      <td>89.3</td>\n",
              "      <td>2.39</td>\n",
              "      <td>1</td>\n",
              "      <td>273</td>\n",
              "      <td>21.0</td>\n",
              "      <td>393.45</td>\n",
              "      <td>6.48</td>\n",
              "      <td>22.0</td>\n",
              "      <td>98.23</td>\n",
              "    </tr>\n",
              "    <tr>\n",
              "      <th>505</th>\n",
              "      <td>0.05</td>\n",
              "      <td>11.93</td>\n",
              "      <td>0</td>\n",
              "      <td>0.57</td>\n",
              "      <td>6.03</td>\n",
              "      <td>80.8</td>\n",
              "      <td>2.51</td>\n",
              "      <td>1</td>\n",
              "      <td>273</td>\n",
              "      <td>21.0</td>\n",
              "      <td>396.90</td>\n",
              "      <td>7.88</td>\n",
              "      <td>11.9</td>\n",
              "      <td>88.88</td>\n",
              "    </tr>\n",
              "  </tbody>\n",
              "</table>\n",
              "</div>\n",
              "      <button class=\"colab-df-convert\" onclick=\"convertToInteractive('df-e77e2444-2b30-4b96-880e-75bd32e487bd')\"\n",
              "              title=\"Convert this dataframe to an interactive table.\"\n",
              "              style=\"display:none;\">\n",
              "        \n",
              "  <svg xmlns=\"http://www.w3.org/2000/svg\" height=\"24px\"viewBox=\"0 0 24 24\"\n",
              "       width=\"24px\">\n",
              "    <path d=\"M0 0h24v24H0V0z\" fill=\"none\"/>\n",
              "    <path d=\"M18.56 5.44l.94 2.06.94-2.06 2.06-.94-2.06-.94-.94-2.06-.94 2.06-2.06.94zm-11 1L8.5 8.5l.94-2.06 2.06-.94-2.06-.94L8.5 2.5l-.94 2.06-2.06.94zm10 10l.94 2.06.94-2.06 2.06-.94-2.06-.94-.94-2.06-.94 2.06-2.06.94z\"/><path d=\"M17.41 7.96l-1.37-1.37c-.4-.4-.92-.59-1.43-.59-.52 0-1.04.2-1.43.59L10.3 9.45l-7.72 7.72c-.78.78-.78 2.05 0 2.83L4 21.41c.39.39.9.59 1.41.59.51 0 1.02-.2 1.41-.59l7.78-7.78 2.81-2.81c.8-.78.8-2.07 0-2.86zM5.41 20L4 18.59l7.72-7.72 1.47 1.35L5.41 20z\"/>\n",
              "  </svg>\n",
              "      </button>\n",
              "      \n",
              "  <style>\n",
              "    .colab-df-container {\n",
              "      display:flex;\n",
              "      flex-wrap:wrap;\n",
              "      gap: 12px;\n",
              "    }\n",
              "\n",
              "    .colab-df-convert {\n",
              "      background-color: #E8F0FE;\n",
              "      border: none;\n",
              "      border-radius: 50%;\n",
              "      cursor: pointer;\n",
              "      display: none;\n",
              "      fill: #1967D2;\n",
              "      height: 32px;\n",
              "      padding: 0 0 0 0;\n",
              "      width: 32px;\n",
              "    }\n",
              "\n",
              "    .colab-df-convert:hover {\n",
              "      background-color: #E2EBFA;\n",
              "      box-shadow: 0px 1px 2px rgba(60, 64, 67, 0.3), 0px 1px 3px 1px rgba(60, 64, 67, 0.15);\n",
              "      fill: #174EA6;\n",
              "    }\n",
              "\n",
              "    [theme=dark] .colab-df-convert {\n",
              "      background-color: #3B4455;\n",
              "      fill: #D2E3FC;\n",
              "    }\n",
              "\n",
              "    [theme=dark] .colab-df-convert:hover {\n",
              "      background-color: #434B5C;\n",
              "      box-shadow: 0px 1px 3px 1px rgba(0, 0, 0, 0.15);\n",
              "      filter: drop-shadow(0px 1px 2px rgba(0, 0, 0, 0.3));\n",
              "      fill: #FFFFFF;\n",
              "    }\n",
              "  </style>\n",
              "\n",
              "      <script>\n",
              "        const buttonEl =\n",
              "          document.querySelector('#df-e77e2444-2b30-4b96-880e-75bd32e487bd button.colab-df-convert');\n",
              "        buttonEl.style.display =\n",
              "          google.colab.kernel.accessAllowed ? 'block' : 'none';\n",
              "\n",
              "        async function convertToInteractive(key) {\n",
              "          const element = document.querySelector('#df-e77e2444-2b30-4b96-880e-75bd32e487bd');\n",
              "          const dataTable =\n",
              "            await google.colab.kernel.invokeFunction('convertToInteractive',\n",
              "                                                     [key], {});\n",
              "          if (!dataTable) return;\n",
              "\n",
              "          const docLinkHtml = 'Like what you see? Visit the ' +\n",
              "            '<a target=\"_blank\" href=https://colab.research.google.com/notebooks/data_table.ipynb>data table notebook</a>'\n",
              "            + ' to learn more about interactive tables.';\n",
              "          element.innerHTML = '';\n",
              "          dataTable['output_type'] = 'display_data';\n",
              "          await google.colab.output.renderOutput(dataTable, element);\n",
              "          const docLink = document.createElement('div');\n",
              "          docLink.innerHTML = docLinkHtml;\n",
              "          element.appendChild(docLink);\n",
              "        }\n",
              "      </script>\n",
              "    </div>\n",
              "  </div>\n",
              "  "
            ]
          },
          "metadata": {},
          "execution_count": 28
        }
      ]
    }
  ]
}